{
 "cells": [
  {
   "cell_type": "code",
   "execution_count": null,
   "metadata": {},
   "outputs": [],
   "source": [
    "#1.\tNumpy’da Vektor ve Matrisin farkini tek cumle ile ifade ediniz.\n",
    "#tek boyutlu dizilere vektor,Birden fazlaboyutlu dizilere matris denir"
   ]
  },
  {
   "cell_type": "code",
   "execution_count": 33,
   "metadata": {},
   "outputs": [
    {
     "name": "stdout",
     "output_type": "stream",
     "text": [
      "[1, 2, 3, 4, 5, 6, 7, 8, 9, 0] <class 'list'>\n",
      "[1 2 3 4 5 6 7 8 9 0] <class 'numpy.ndarray'>\n"
     ]
    }
   ],
   "source": [
    "#2. 10 elemanli bir listeden NumPy Array’i olusturunuz.\n",
    "import numpy as np\n",
    "liste=[1,2,3,4,5,6,7,8,9,0]\n",
    "array=np.array(liste)\n",
    "print(liste,type(liste))\n",
    "print(array,type(array))"
   ]
  },
  {
   "cell_type": "code",
   "execution_count": 9,
   "metadata": {},
   "outputs": [
    {
     "data": {
      "text/plain": [
       "array([[0, 0, 0, 0, 0, 0, 0, 0, 0, 0],\n",
       "       [0, 0, 0, 0, 0, 0, 0, 0, 0, 0],\n",
       "       [0, 0, 0, 0, 0, 0, 0, 0, 0, 0],\n",
       "       [0, 0, 0, 0, 0, 0, 0, 0, 0, 0],\n",
       "       [0, 0, 0, 0, 0, 0, 0, 0, 0, 0],\n",
       "       [0, 0, 0, 0, 0, 0, 0, 0, 0, 0],\n",
       "       [0, 0, 0, 0, 0, 0, 0, 0, 0, 0],\n",
       "       [0, 0, 0, 0, 0, 0, 0, 0, 0, 0],\n",
       "       [0, 0, 0, 0, 0, 0, 0, 0, 0, 0],\n",
       "       [0, 0, 0, 0, 0, 0, 0, 0, 0, 0]])"
      ]
     },
     "execution_count": 9,
     "metadata": {},
     "output_type": "execute_result"
    }
   ],
   "source": [
    "#3.\tIcerisinde ‘0’ lar olan, ve veri tipi integer olan 10X10’luk bir matris olusturunuz.\n",
    "zeros=np.zeros((10,10),dtype=\"int32\")\n",
    "zeros\n"
   ]
  },
  {
   "cell_type": "code",
   "execution_count": 12,
   "metadata": {},
   "outputs": [
    {
     "data": {
      "text/plain": [
       "array([[1., 1., 1., 1., 1., 1., 1., 1., 1., 1.],\n",
       "       [1., 1., 1., 1., 1., 1., 1., 1., 1., 1.],\n",
       "       [1., 1., 1., 1., 1., 1., 1., 1., 1., 1.],\n",
       "       [1., 1., 1., 1., 1., 1., 1., 1., 1., 1.],\n",
       "       [1., 1., 1., 1., 1., 1., 1., 1., 1., 1.],\n",
       "       [1., 1., 1., 1., 1., 1., 1., 1., 1., 1.],\n",
       "       [1., 1., 1., 1., 1., 1., 1., 1., 1., 1.],\n",
       "       [1., 1., 1., 1., 1., 1., 1., 1., 1., 1.],\n",
       "       [1., 1., 1., 1., 1., 1., 1., 1., 1., 1.],\n",
       "       [1., 1., 1., 1., 1., 1., 1., 1., 1., 1.]])"
      ]
     },
     "execution_count": 12,
     "metadata": {},
     "output_type": "execute_result"
    }
   ],
   "source": [
    "#4.\tIcerisinde ‘1’ ler olan, veri tipi float olan 10X10’luk bir matris olusturunuz.\n",
    "ones=np.ones((10,10))\n",
    "ones\n"
   ]
  },
  {
   "cell_type": "code",
   "execution_count": 14,
   "metadata": {},
   "outputs": [
    {
     "data": {
      "text/plain": [
       "array([[9, 9, 9, 9, 9, 9, 9, 9, 9, 9],\n",
       "       [9, 9, 9, 9, 9, 9, 9, 9, 9, 9],\n",
       "       [9, 9, 9, 9, 9, 9, 9, 9, 9, 9],\n",
       "       [9, 9, 9, 9, 9, 9, 9, 9, 9, 9],\n",
       "       [9, 9, 9, 9, 9, 9, 9, 9, 9, 9],\n",
       "       [9, 9, 9, 9, 9, 9, 9, 9, 9, 9],\n",
       "       [9, 9, 9, 9, 9, 9, 9, 9, 9, 9],\n",
       "       [9, 9, 9, 9, 9, 9, 9, 9, 9, 9],\n",
       "       [9, 9, 9, 9, 9, 9, 9, 9, 9, 9],\n",
       "       [9, 9, 9, 9, 9, 9, 9, 9, 9, 9]])"
      ]
     },
     "execution_count": 14,
     "metadata": {},
     "output_type": "execute_result"
    }
   ],
   "source": [
    "#5.\tIcerisinde ‘9’ lar olan, veri tipi integer olan 10X10’luk bir matris olusturunuz.\n",
    "number=np.full((10,10),9,dtype=\"int32\")\n",
    "number"
   ]
  },
  {
   "cell_type": "code",
   "execution_count": 15,
   "metadata": {},
   "outputs": [
    {
     "data": {
      "text/plain": [
       "array([ 5,  8, 11, 14, 17, 20, 23])"
      ]
     },
     "execution_count": 15,
     "metadata": {},
     "output_type": "execute_result"
    }
   ],
   "source": [
    "#6.\t5 ile 25 arasinda, 3’er 3’er atlayan tek boyutlu bir Array olusturunuz.\n",
    "range=np.arange(5,25,3)\n",
    "range"
   ]
  },
  {
   "cell_type": "code",
   "execution_count": 16,
   "metadata": {},
   "outputs": [
    {
     "data": {
      "text/plain": [
       "array([-1.        , -0.93103448, -0.86206897, -0.79310345, -0.72413793,\n",
       "       -0.65517241, -0.5862069 , -0.51724138, -0.44827586, -0.37931034,\n",
       "       -0.31034483, -0.24137931, -0.17241379, -0.10344828, -0.03448276,\n",
       "        0.03448276,  0.10344828,  0.17241379,  0.24137931,  0.31034483,\n",
       "        0.37931034,  0.44827586,  0.51724138,  0.5862069 ,  0.65517241,\n",
       "        0.72413793,  0.79310345,  0.86206897,  0.93103448,  1.        ])"
      ]
     },
     "execution_count": 16,
     "metadata": {},
     "output_type": "execute_result"
    }
   ],
   "source": [
    "#7.\t-1 ile 1 arasinda 30 adet Array olusturunuz.\n",
    "lins=np.linspace(-1,1,30)\n",
    "lins"
   ]
  },
  {
   "cell_type": "code",
   "execution_count": 18,
   "metadata": {},
   "outputs": [
    {
     "data": {
      "text/plain": [
       "array([[ 0,  1,  2,  3,  4,  5],\n",
       "       [ 6,  7,  8,  9, 10, 11],\n",
       "       [12, 13, 14, 15, 16, 17],\n",
       "       [18, 19, 20, 21, 22, 23],\n",
       "       [24, 25, 26, 27, 28, 29]])"
      ]
     },
     "execution_count": 18,
     "metadata": {},
     "output_type": "execute_result"
    }
   ],
   "source": [
    "#8.\t0 ile 30 arasinda 5x6’lik bir matris olusturun.\n",
    "shape=np.arange(0,30).reshape(5,6)\n",
    "shape"
   ]
  },
  {
   "cell_type": "code",
   "execution_count": 20,
   "metadata": {},
   "outputs": [
    {
     "data": {
      "text/plain": [
       "array([[1., 0., 0., 0., 0., 0., 0., 0., 0., 0.],\n",
       "       [0., 1., 0., 0., 0., 0., 0., 0., 0., 0.],\n",
       "       [0., 0., 1., 0., 0., 0., 0., 0., 0., 0.],\n",
       "       [0., 0., 0., 1., 0., 0., 0., 0., 0., 0.],\n",
       "       [0., 0., 0., 0., 1., 0., 0., 0., 0., 0.],\n",
       "       [0., 0., 0., 0., 0., 1., 0., 0., 0., 0.],\n",
       "       [0., 0., 0., 0., 0., 0., 1., 0., 0., 0.],\n",
       "       [0., 0., 0., 0., 0., 0., 0., 1., 0., 0.],\n",
       "       [0., 0., 0., 0., 0., 0., 0., 0., 1., 0.],\n",
       "       [0., 0., 0., 0., 0., 0., 0., 0., 0., 1.]])"
      ]
     },
     "execution_count": 20,
     "metadata": {},
     "output_type": "execute_result"
    }
   ],
   "source": [
    "#9.\tKosegenleri 1 olan 10x10’luk bir matris olusturunuz. \n",
    "dioganel=np.eye(10,10)\n",
    "dioganel\n"
   ]
  },
  {
   "cell_type": "code",
   "execution_count": 29,
   "metadata": {},
   "outputs": [
    {
     "name": "stdout",
     "output_type": "stream",
     "text": [
      "[[3 9 2 2 3 4 5 0 8 4]\n",
      " [2 3 8 2 5 0 1 3 4 3]\n",
      " [5 3 6 0 8 3 7 3 5 7]\n",
      " [0 3 6 7 7 9 2 8 2 8]\n",
      " [5 2 4 7 3 5 1 0 7 9]]\n",
      "size  50\n",
      "shape (5, 10)\n",
      "dimensions  2\n",
      "dtype  int32\n",
      "<class 'numpy.ndarray'>\n"
     ]
    }
   ],
   "source": [
    "#10.\t0 ile 10 arasinda 5x10’lik bir matris olusturun. (integer) ve bu matrisin;\n",
    "#a.\teleman sayisini\n",
    "#b.\tboyut bilgisini/sayisini\n",
    "#c.\tsatir X sutun bilgisini\n",
    "#d.\tveri tipini numpy metodlariyla yazdiriniz\n",
    "\n",
    "\n",
    "\n",
    "numbers=np.random.randint(0,10 ,(5,10))\n",
    "print(numbers)\n",
    "print(\"size \",numbers.size)\n",
    "print(\"shape\",numbers.shape)\n",
    "print(\"dimensions \",numbers.ndim)\n",
    "print(\"dtype \",numbers.dtype)\n"
   ]
  },
  {
   "cell_type": "code",
   "execution_count": 31,
   "metadata": {},
   "outputs": [
    {
     "data": {
      "text/plain": [
       "array([[[2, 4, 1, 7, 9, 2, 0],\n",
       "        [5, 3, 5, 8, 9, 8, 6],\n",
       "        [7, 6, 3, 2, 0, 6, 7],\n",
       "        [5, 5, 4, 7, 8, 6, 0]],\n",
       "\n",
       "       [[6, 0, 7, 4, 5, 6, 6],\n",
       "        [9, 6, 3, 3, 8, 3, 0],\n",
       "        [1, 5, 2, 4, 5, 8, 2],\n",
       "        [5, 3, 9, 9, 4, 7, 2]],\n",
       "\n",
       "       [[5, 1, 6, 6, 8, 8, 8],\n",
       "        [4, 2, 4, 7, 5, 7, 3],\n",
       "        [1, 2, 0, 8, 3, 4, 2],\n",
       "        [7, 1, 7, 1, 1, 5, 6]]])"
      ]
     },
     "execution_count": 31,
     "metadata": {},
     "output_type": "execute_result"
    }
   ],
   "source": [
    "#11.\t0 ile 10 arasindaki degerlerden olusan 3 adet 4x7’lik bir matris olusturunuz. \n",
    "#(3 boyutlu bir matris olusturulacak) \n",
    "randnum=np.random.randint(0,10 ,(3,4,7))#(adet,satir,sutun)\n",
    "randnum\n",
    "\n"
   ]
  },
  {
   "cell_type": "code",
   "execution_count": 42,
   "metadata": {},
   "outputs": [
    {
     "name": "stdout",
     "output_type": "stream",
     "text": [
      "[0 1 2 3 4 5 6 7 8 9]\n",
      "[[0 1 2 3 4]\n",
      " [5 6 7 8 9]]\n"
     ]
    }
   ],
   "source": [
    "#12.\tBir vektor olusturunuz ve daha sonrasinda\n",
    "#ayni vektoru bir matrise ceviriniz. (boyut sayisini degistirin.)\n",
    "vector=np.arange(10)\n",
    "print(vector)\n",
    "matris=vector.reshape(2,5)\n",
    "\n",
    "print(matris)\n",
    "\n",
    "\n"
   ]
  },
  {
   "cell_type": "code",
   "execution_count": 117,
   "metadata": {},
   "outputs": [
    {
     "name": "stdout",
     "output_type": "stream",
     "text": [
      "x\n",
      "[0 1 2 3 4 5 6 7 8 9]\n",
      "y\n",
      "[10 11 12 13 14 15 16 17 18 19]\n",
      "z\n",
      "[20 21 22 23 24 25 26 27 28 29]\n",
      "t\n",
      "[30 31 32 33 34 35 36 37 38 39]\n",
      "sum_array\n",
      "[ 0  1  2  3  4  5  6  7  8  9 10 11 12 13 14 15 16 17 18 19 20 21 22 23\n",
      " 24 25 26 27 28 29 30 31 32 33 34 35 36 37 38 39]\n",
      "sum_array2\n",
      "[ 0  1  2  3  4  5  6  7  8  9 10 11 12 13 14 15 16 17 18 19 20 21 22 23\n",
      " 24 25 26 27 28 29 30 31 32 33 34 35 36 37 38 39]\n"
     ]
    }
   ],
   "source": [
    "#13.\t4 tane ayri tek boyutlu array’i birlestirerek bir array olusturunuz.\n",
    "x=np.arange(10)\n",
    "y=np.arange(10,20)\n",
    "z=np.arange(20,30)\n",
    "t=np.arange(30,40)\n",
    "\n",
    "sum_array=np.hstack((x,y,z,t))\n",
    "sum_array2=np.concatenate([x,y,z,t])\n",
    "print(\"x\")\n",
    "print(x)\n",
    "print(\"y\")\n",
    "print(y)\n",
    "print(\"z\")\n",
    "print(z)\n",
    "print(\"t\")\n",
    "print(t)\n",
    "print(\"sum_array\")\n",
    "print(sum_array)\n",
    "print(\"sum_array2\")\n",
    "print(sum_array2)\n"
   ]
  },
  {
   "cell_type": "code",
   "execution_count": 29,
   "metadata": {},
   "outputs": [
    {
     "name": "stdout",
     "output_type": "stream",
     "text": [
      "x\n",
      "[[1 2 3 4]]\n",
      "y\n",
      "[[ 6  7  8  9]\n",
      " [10 22 33 44]]\n",
      "x_y\n",
      "[[ 1  2  3  4]\n",
      " [ 6  7  8  9]\n",
      " [10 22 33 44]]\n"
     ]
    }
   ],
   "source": [
    "#14.\t2 boyutlu bir vektor ve bir matris olusturun(ayri ayri), \n",
    "#bu iki arrayi numpy metodlarini kullanarak sutun bazli birlestiriniz,\n",
    "x=np.array([[1,2,3,4]])\n",
    "y=np.array([[6,7,8,9],[10,22,33,44]])\n",
    "x_y=np.concatenate([x,y])\n",
    "\n",
    "print(\"x\")\n",
    "print(x)\n",
    "print(\"y\")\n",
    "print(y)\n",
    "print(\"x_y\")\n",
    "print(x_y)\n",
    "\n",
    "\n",
    "\n"
   ]
  },
  {
   "cell_type": "code",
   "execution_count": 13,
   "metadata": {},
   "outputs": [
    {
     "name": "stdout",
     "output_type": "stream",
     "text": [
      "\n",
      "axis=1 ,satir islemleri\n",
      "axis=0 ,sutun islemlerini belirtir\n",
      "\n"
     ]
    }
   ],
   "source": [
    "#15.\tNumpy’da “axis=1” ve “axis=0”  arasinda ne fark vardir. Teorik olarak yaziniz?\n",
    "print(\"\"\"\n",
    "axis=1 ,satir islemleri\n",
    "axis=0 ,sutun islemlerini belirtir\n",
    "\"\"\")\n"
   ]
  },
  {
   "cell_type": "code",
   "execution_count": 14,
   "metadata": {},
   "outputs": [
    {
     "name": "stdout",
     "output_type": "stream",
     "text": [
      "row \n",
      "[[ 6  1 10  1  9  3 10  5  7  8 10  1 10  7  2]\n",
      " [ 7  9  9  4  3 10  7  8  9 10  7  7  3  6  1]\n",
      " [ 7  1  2  8  3  7 10  2 10  6  3  1  8  8  4]]\n",
      "col\n",
      "[[ 7  5  2 10  2  3  5 10]\n",
      " [ 2  8  4  6  1  4  8  8]\n",
      " [ 8  4 10  1  5  5  5  1]\n",
      " [ 6  3  3 10  8  4  5  4]\n",
      " [ 2  2  6  7  1  3  9 10]\n",
      " [ 9  5  8  4  5  3  5  9]]\n"
     ]
    }
   ],
   "source": [
    "#16.\tFarkli boyutlardaki arraylari satin ve sutun bazli ayri ayri birlestiriniz.\n",
    "\n",
    "#dikkat satir birlestirmelerde satir sayilari esit olmali\n",
    "x_row=np.random.randint(1,11,(3,8,))\n",
    "y_row=np.random.randint(1,11,(3,7))\n",
    "rowx_y=np.hstack((x_row,y_row))\n",
    "\n",
    "#dikkat sutun birlestirmelerde sutun sayilari esit olmali\n",
    "x_col=np.random.randint(1,11,(4,8,))\n",
    "y_col=np.random.randint(1,11,(2,8))\n",
    "colx_y=np.vstack((x_col,y_col))\n",
    "\n",
    "print(\"row \")\n",
    "print(rowx_y)\n",
    "print(\"col\")\n",
    "print(colx_y)\n"
   ]
  },
  {
   "cell_type": "code",
   "execution_count": 30,
   "metadata": {},
   "outputs": [
    {
     "name": "stdout",
     "output_type": "stream",
     "text": [
      "[0, 1, 2, 3, 4, 5, 6, 7, 8, 9, 10, 11, 12, 13, 14, 15, 16, 17, 18, 19, 20, 21, 22, 23, 24, 25, 26, 27, 28, 29, 30, 31]\n",
      "a\n",
      "[0 1 2 3 4 5 6]\n",
      "b\n",
      "[ 7  8  9 10 11 12 13 14]\n",
      "c\n",
      "[15 16 17 18 19 20 21 22 23 24 25]\n",
      "d\n",
      "[26 27 28 29 30 31]\n"
     ]
    }
   ],
   "source": [
    "#17.\t10 elemanli bi liste olusturunuz ve\n",
    "#bu listeyi Numpy metodlariyla bolerek(split) 4 ayri array olusturunuz.\n",
    "liste=list(range(32))\n",
    "print(liste)\n",
    "\n",
    "a,b,c,d=np.split(liste,[7,15,26])\n",
    "print(\"a\")\n",
    "print(a)\n",
    "print(\"b\")\n",
    "print(b)\n",
    "print(\"c\")\n",
    "print(c)\n",
    "print(\"d\")\n",
    "print(d)\n"
   ]
  },
  {
   "cell_type": "code",
   "execution_count": 63,
   "metadata": {},
   "outputs": [
    {
     "name": "stdout",
     "output_type": "stream",
     "text": [
      "[87 60 12 92 34 39 19 28 34 65 48 46 56 29 80]\n",
      "[12 19 28 29 34 34 39 46 48 56 60 65 80 87 92]\n",
      "1 = 12\n",
      "2 = 19\n",
      "3 = 28\n",
      "4 = 29\n",
      "5 = 34\n",
      "6 = 34\n",
      "7 = 39\n",
      "8 = 46\n",
      "9 = 48\n",
      "10 = 56\n",
      "11 = 60\n",
      "12 = 65\n",
      "13 = 80\n",
      "14 = 87\n",
      "15 = 92\n"
     ]
    }
   ],
   "source": [
    "#18.\tRandom bir array olusturunuz ve bu arrayi buyukten kucuge dogru siralayiniz.\n",
    "#Ve bu siralamadan sonra hangi elemanin hangi indexte oldugunu gosteren bir metod uygulayiniz.\n",
    "\n",
    "array=np.random.randint(0,100,size=15)\n",
    "print(array)\n",
    "sort_array=np.sort(array)\n",
    "print(sort_array)\n",
    "for i in range(len(sort_array)):\n",
    "    print(i+1,\"=\",sort_array[i])\n",
    "   \n",
    "   \n",
    " "
   ]
  },
  {
   "cell_type": "code",
   "execution_count": 64,
   "metadata": {},
   "outputs": [
    {
     "name": "stdout",
     "output_type": "stream",
     "text": [
      "[ 0  9  3  1 15  3 16  7 16  7 14 18 16  0  9  6  4  6 17  3]\n",
      "1\n",
      "3\n",
      "7\n"
     ]
    }
   ],
   "source": [
    "\n",
    "\n",
    "#19.\t20 elemanli random bir vektor olusturunuz. Bu vektorun 3. 5. ve 7. elemanlarina ulasin\n",
    "numbers=np.random.randint(20,size=20)\n",
    "print(numbers)\n",
    "print(numbers[3])\n",
    "print(numbers[5])\n",
    "print(numbers[7])"
   ]
  },
  {
   "cell_type": "code",
   "execution_count": 18,
   "metadata": {},
   "outputs": [
    {
     "name": "stdout",
     "output_type": "stream",
     "text": [
      "[ 3  0 19 13 19  6 11 16  4  8]\n",
      "change\n",
      "[ 3  0 19 13 44  6 11 16  4  8]\n"
     ]
    }
   ],
   "source": [
    "#20.\t10 elemanli random bir vektor olusturunuz ve bu arrayin \n",
    "#4. elemanini farkli bir sayiyla degistiriniz.\n",
    "numbers=np.random.randint(20,size=10)\n",
    "print(numbers)\n",
    "numbers[4]=44\n",
    "print(\"change\")\n",
    "print(numbers)\n"
   ]
  },
  {
   "cell_type": "code",
   "execution_count": 19,
   "metadata": {},
   "outputs": [],
   "source": [
    "#21.\t“Diagonal Matrix” ve “Trace Matrix” \n",
    "#kavramlari hakkinda kucuk bir arastirma yapip bunlarin ne oldugunu belirten kucuk bir aciklama yaziniz.\n",
    "\n",
    "print(\"\"\"\n",
    "dioganal matris= nxn bir matriste (a[0,0] --> a[n,n] )indexindeki kosegeni olusturan \n",
    "sayilar sifirdan farkli ve diger indexteki sayilar 0 ise bu matrise dioganal matris denir. \n",
    "\n",
    "\"\"\")\n",
    "\n",
    "Print(\"\"\"\n",
    "Trace Matrix: nxn bir matrisin (a[0,0] --> a[n,n] )kosegenini olusturan sayilarin toplamina Trace denir.\n",
    "toplam=a[0,0]+a[1,1]+........+a[n,n] toplami ile ifade edilir\n",
    "\"\"\")\n",
    "\n",
    "\n"
   ]
  },
  {
   "cell_type": "code",
   "execution_count": 15,
   "metadata": {},
   "outputs": [
    {
     "name": "stdout",
     "output_type": "stream",
     "text": [
      "[[ 1  0  0  0  0]\n",
      " [ 0  7  0  0  0]\n",
      " [ 0  0 13  0  0]\n",
      " [ 0  0  0 19  0]\n",
      " [ 0  0  0  0 25]]\n",
      "1\n",
      "7\n",
      "13\n",
      "19\n",
      "25\n"
     ]
    }
   ],
   "source": [
    "#22.\t5x5’lik Diagonal bir matris olusturunuz ve \n",
    "#Diagonaline denk gelen indexlere ulasiniz.(ayri ayri)\n",
    "\n",
    "dioganal=np.arange(1,26).reshape(5,5)\n",
    "print(np.diag(np.diag(dioganal)))\n",
    "for i in range(len(dioganal)):\n",
    "    print(dioganal[i,i])"
   ]
  },
  {
   "cell_type": "code",
   "execution_count": 11,
   "metadata": {},
   "outputs": [
    {
     "name": "stdout",
     "output_type": "stream",
     "text": [
      "[10 11 12 13 14 15 16 17 18 19]\n",
      "[13 14 15 16 17 18 19]\n"
     ]
    }
   ],
   "source": [
    "#23. 10 ile 20 arasinda bir vektor olusturunuz. \n",
    "#Ve 3. indexten son indexe kadar olan degerleri yazdiriniz.\n",
    "\n",
    "index=np.arange(10,20)\n",
    "print(index)\n",
    "\n",
    "print(index[3:10])\n"
   ]
  },
  {
   "cell_type": "code",
   "execution_count": 57,
   "metadata": {},
   "outputs": [
    {
     "name": "stdout",
     "output_type": "stream",
     "text": [
      "[[  1   2   3   4   5   6   7   8   9  10]\n",
      " [ 11  12  13  14  15  16  17  18  19  20]\n",
      " [ 21  22  23  24  25  26  27  28  29  30]\n",
      " [ 31  32  33  34  35  36  37  38  39  40]\n",
      " [ 41  42  43  44  45  46  47  48  49  50]\n",
      " [ 51  52  53  54  55  56  57  58  59  60]\n",
      " [ 61  62  63  64  65  66  67  68  69  70]\n",
      " [ 71  72  73  74  75  76  77  78  79  80]\n",
      " [ 81  82  83  84  85  86  87  88  89  90]\n",
      " [ 91  92  93  94  95  96  97  98  99 100]] \n",
      "\n",
      "[31 32 33 34 35 36 37 38 39 40]\n",
      "[ 5 15 25 35 45 55 65 75 85 95]\n",
      "a. 5.sutunun tum satirlarina ulasiniz.\n",
      "[ 5 15 25 35 45 55 65 75 85 95]\n",
      "b. Tum sutunlarin 2.satirlarina ulasiniz.\n",
      "[11 12 13 14 15 16 17 18 19 20]\n",
      " c. tum sutunlarin 2 ile 7 arasindaki satirlarina ulasiniz.\n",
      "[[11 12 13 14 15 16 17 18 19 20]\n",
      " [21 22 23 24 25 26 27 28 29 30]\n",
      " [31 32 33 34 35 36 37 38 39 40]\n",
      " [41 42 43 44 45 46 47 48 49 50]\n",
      " [51 52 53 54 55 56 57 58 59 60]]\n",
      "d. satir indexi 2’den 5’e ve sutun indexi 3 den 7’ye kadar olan degerlere ulasiniz.\n",
      "[[24 25 26 27]\n",
      " [34 35 36 37]\n",
      " [44 45 46 47]]\n",
      "e. satir indexi 5’den en sona ve sutun indexi en bastan 4’e kadar olan degerlere ulasiniz.\n",
      "[[51 52 53 54]\n",
      " [61 62 63 64]\n",
      " [71 72 73 74]\n",
      " [81 82 83 84]]\n",
      "f. sutun indexi sadece 3, 6,9 olan kolonlarin(sutunlarin), tum satirlarina ulasiniz.\n",
      "[[  4   7  10]\n",
      " [ 14  17  20]\n",
      " [ 24  27  30]\n",
      " [ 34  37  40]\n",
      " [ 44  47  50]\n",
      " [ 54  57  60]\n",
      " [ 64  67  70]\n",
      " [ 74  77  80]\n",
      " [ 84  87  90]\n",
      " [ 94  97 100]]\n",
      "g. 5. indexli satir ve 5.indexli sutuna denk gelen degeri, dogum yilinizla degistiriniz.\n",
      "[[   1    2    3    4    5    6    7    8    9   10]\n",
      " [  11   12   13   14   15   16   17   18   19   20]\n",
      " [  21   22   23   24   25   26   27   28   29   30]\n",
      " [  31   32   33   34   35   36   37   38   39   40]\n",
      " [  41   42   43   44   45   46   47   48   49   50]\n",
      " [  51   52   53   54   55 1981   57   58   59   60]\n",
      " [  61   62   63   64   65   66   67   68   69   70]\n",
      " [  71   72   73   74   75   76   77   78   79   80]\n",
      " [  81   82   83   84   85   86   87   88   89   90]\n",
      " [  91   92   93   94   95   96   97   98   99  100]]\n"
     ]
    }
   ],
   "source": [
    "#24. 10X10 luk bir matris olusturunuz ve ;\n",
    "matris=np.arange(1,101).reshape(10,10)\n",
    "print(matris,'\\n')\n",
    "# . 3.satir ve 5.sutuna ulasiniz.\n",
    "\n",
    "print(matris[3,])\n",
    "print(matris[:,4])\n",
    "print(\"a. 5.sutunun tum satirlarina ulasiniz.\")\n",
    "print(matris[:,4])\n",
    "print(\"b. Tum sutunlarin 2.satirlarina ulasiniz.\")\n",
    "print(matris[1,])\n",
    "print(\" c. tum sutunlarin 2 ile 7 arasindaki satirlarina ulasiniz.\")\n",
    "print(matris[1:6],)\n",
    "print(\"d. satir indexi 2’den 5’e ve sutun indexi 3 den 7’ye kadar olan degerlere ulasiniz.\")\n",
    "print(matris[2:5,3:7])\n",
    "print(\"e. satir indexi 5’den en sona ve sutun indexi en bastan 4’e kadar olan degerlere ulasiniz.\")\n",
    "print(matris[5:-1,:4])\n",
    "print(\"f. sutun indexi sadece 3, 6,9 olan kolonlarin(sutunlarin), tum satirlarina ulasiniz.\")\n",
    "print(matris[:,3:10:3])\n",
    "print(\"g. 5. indexli satir ve 5.indexli sutuna denk gelen degeri, dogum yilinizla degistiriniz.\")\n",
    "matris[5,5:6]=1981\n",
    "print(matris)\n"
   ]
  },
  {
   "cell_type": "code",
   "execution_count": 66,
   "metadata": {},
   "outputs": [
    {
     "name": "stdout",
     "output_type": "stream",
     "text": [
      "[ 0  5 10 15 20 25 30 35 40 45]\n",
      "20 den buyuk olan kac deger var.\n",
      "5\n",
      "a. 30’dan kucuk kac deger var\n",
      "6\n",
      "b. icerisinde 33 gecen kac deger var\n",
      "0\n",
      "c. olusturulan arrayin tum elemanlarini 5 ile carpin.\n",
      "[  0  25  50  75 100 125 150 175 200 225]\n",
      "d. olusturulan arrayin tum elemanlarinin 2 ile bolumunden kalanlari yazdiriniz.\n",
      "[0 1 0 1 0 1 0 1 0 1]\n"
     ]
    }
   ],
   "source": [
    "# 25. 0’dan 50’ye kadar 5’er 5’er atlayarak giden bir array olusturunuz(tek boyutlu)\n",
    "#ve numpy metodlariyla asagidaki islemleri uygulayin;\n",
    "\n",
    "array=np.arange(0,50,5)\n",
    "print(array)\n",
    "print(\"20 den buyuk olan kac deger var.\")\n",
    "print(np.sum(array>20))\n",
    "print(\"a. 30’dan kucuk kac deger var\")\n",
    "print(np.sum(array<30))\n",
    "print(\"b. icerisinde 33 gecen kac deger var\")\n",
    "print(np.sum(array==33))\n",
    "print(\"c. olusturulan arrayin tum elemanlarini 5 ile carpin.\")\n",
    "print(array*5)\n",
    "print(\"d. olusturulan arrayin tum elemanlarinin 2 ile bolumunden kalanlari yazdiriniz.\")\n",
    "print(array %2)\n"
   ]
  },
  {
   "cell_type": "code",
   "execution_count": 71,
   "metadata": {},
   "outputs": [
    {
     "name": "stdout",
     "output_type": "stream",
     "text": [
      "[0.         0.02040816 0.04081633 0.06122449 0.08163265 0.10204082\n",
      " 0.12244898 0.14285714 0.16326531 0.18367347 0.20408163 0.2244898\n",
      " 0.24489796 0.26530612 0.28571429 0.30612245 0.32653061 0.34693878\n",
      " 0.36734694 0.3877551  0.40816327 0.42857143 0.44897959 0.46938776\n",
      " 0.48979592 0.51020408 0.53061224 0.55102041 0.57142857 0.59183673\n",
      " 0.6122449  0.63265306 0.65306122 0.67346939 0.69387755 0.71428571\n",
      " 0.73469388 0.75510204 0.7755102  0.79591837 0.81632653 0.83673469\n",
      " 0.85714286 0.87755102 0.89795918 0.91836735 0.93877551 0.95918367\n",
      " 0.97959184 1.        ]\n",
      " orlamasini aliniz.\n",
      "0.5\n",
      "a. standart sapmasini aliniz.\n",
      "0.2945075446869757\n",
      "b. varyansini aliniz\n",
      "0.086734693877551\n",
      "c. median’ini aliniz.\n",
      "0.5\n",
      "d. en kucuk degeri bulunuz.\n",
      "0.0\n",
      "e. en buyuk degeri bulunuz.\n",
      "1.0\n"
     ]
    }
   ],
   "source": [
    "# 26. 0 ile 1 arasinda 50 elamanli bir array olusturunuz ve;\n",
    "array=np.linspace(0,1,50)\n",
    "print(array)\n",
    "print(\" ortamasini aliniz.\")\n",
    "print(array.mean())\n",
    "print(\"a. standart sapmasini aliniz.\")\n",
    "print(array.std())\n",
    "print(\"b. varyansini aliniz\")\n",
    "print(array.var())\n",
    "print(\"c. median’ini aliniz.\")\n",
    "print(np.median(array))\n",
    "print(\"d. en kucuk degeri bulunuz.\")\n",
    "print(array.min())\n",
    "print(\"e. en buyuk degeri bulunuz.\")\n",
    "print(array.max())\n",
    "\n",
    " "
   ]
  },
  {
   "cell_type": "code",
   "execution_count": null,
   "metadata": {},
   "outputs": [],
   "source": []
  }
 ],
 "metadata": {
  "kernelspec": {
   "display_name": "Python 3",
   "language": "python",
   "name": "python3"
  },
  "language_info": {
   "codemirror_mode": {
    "name": "ipython",
    "version": 3
   },
   "file_extension": ".py",
   "mimetype": "text/x-python",
   "name": "python",
   "nbconvert_exporter": "python",
   "pygments_lexer": "ipython3",
   "version": "3.7.4"
  }
 },
 "nbformat": 4,
 "nbformat_minor": 2
}
